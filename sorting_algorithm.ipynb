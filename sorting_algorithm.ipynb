{
  "cells": [
    {
      "cell_type": "markdown",
      "metadata": {
        "id": "oexJyvKILlNa"
      },
      "source": [
        "#Sorting Algorithm"
      ]
    },
    {
      "cell_type": "markdown",
      "metadata": {
        "id": "osKmdbM7Lzfb"
      },
      "source": [
        "**Types of Sorting Algorithm**\n",
        "1. Insertion sort\n",
        "2. Selection sort\n",
        "3. Quick sort"
      ]
    },
    {
      "cell_type": "markdown",
      "metadata": {
        "id": "1vyDwn5bLmrn"
      },
      "source": [
        "# 1. Insertion sort"
      ]
    },
    {
      "cell_type": "code",
      "execution_count": 60,
      "metadata": {
        "id": "jE0wdU1CM1m3"
      },
      "outputs": [],
      "source": [
        "import random\n",
        "b= [i for i in range(1,54)]\n",
        "random.shuffle(b)"
      ]
    },
    {
      "cell_type": "code",
      "execution_count": 61,
      "metadata": {
        "id": "uRoUQSu-M9HF"
      },
      "outputs": [],
      "source": [
        "n = len(b)\n",
        "insertion_swap_count = 0\n",
        "insertion_comparision_count = 0\n",
        "\n",
        "def swap(b,x,y):\n",
        "  \"\"\"It replace y from x and vice versa in b\"\"\"\n",
        "  global insertion_swap_count\n",
        "  insertion_swap_count +=1\n",
        "  b[x], b[y] = b[y], b[x]\n",
        "\n",
        "def push_down(b, i):\n",
        "    '''Push value at position i into sorted position in b[0..i-1]'''\n",
        "    global insertion_comparision_count\n",
        "    j = i\n",
        "    while j > 0:\n",
        "        insertion_comparision_count +=1\n",
        "        if b[j-1] > b[j]:\n",
        "            swap(b, j-1, j)\n",
        "        j = j-1\n",
        "\n",
        "def insertion_sort(b):\n",
        "    i = 0\n",
        "    while i < n:\n",
        "        push_down(b,i)\n",
        "        i = i+1\n",
        "\n",
        "insertion_sort(b)"
      ]
    },
    {
      "cell_type": "markdown",
      "metadata": {
        "id": "PEXW3ygDO3VO"
      },
      "source": [
        "#2. Selection sort"
      ]
    },
    {
      "cell_type": "code",
      "execution_count": 62,
      "metadata": {
        "id": "PPqpA1CRO-jW"
      },
      "outputs": [],
      "source": [
        "selection_swap_count =0\n",
        "selection_comparision_count = 0\n",
        "def swap(b,x,y):\n",
        "    \"\"\"It replace y from x and vice versa in b\"\"\"\n",
        "    global selection_swap_count\n",
        "    selection_swap_count +=1\n",
        "    b[x], b[y] = b[y], b[x]\n",
        "\n",
        "def find_minimum(lst,i):\n",
        "\t\"\"\"Returns the index of the minimum of the list\"\"\"\n",
        "\tglobal selection_comparision_count\n",
        "\tj = i\n",
        "\tmini = i\n",
        "\twhile j<len(lst):\n",
        "\t\tselection_comparision_count += 1\n",
        "\t\tif lst[mini]>lst[j]:\n",
        "\t\t\tmini = j\n",
        "\t\tj += 1\n",
        "\treturn mini\n",
        "\n",
        "def selection_sort(lst):\n",
        "\ti = 0\n",
        "\twhile i < len(lst)-1:\n",
        "\t\tmini = find_minimum(lst, i)\n",
        "\t\tswap(lst,i,mini)\n",
        "\t\ti += 1\n",
        "\n",
        "selection_sort(b)"
      ]
    },
    {
      "cell_type": "markdown",
      "metadata": {
        "id": "paE4-7DmPKt0"
      },
      "source": [
        "#3. Quick sort"
      ]
    },
    {
      "cell_type": "code",
      "execution_count": 63,
      "metadata": {
        "id": "-s_5zFCtPPJr"
      },
      "outputs": [],
      "source": [
        "quick_swap_count = 0\n",
        "quick_comparision_count = 0\n",
        "def swap(b,x,y):\n",
        "    \"\"\"It replace y from x and vice versa in b\"\"\"\n",
        "    global quick_swap_count\n",
        "    quick_swap_count += 1\n",
        "    b[x], b[y] = b[y], b[x]\n",
        "\n",
        "def partition(b, h, k):\n",
        "    \"\"\"Partition list b[h..k] around a pivot x = b[h]\"\"\"\n",
        "    global quick_comparision_count\n",
        "    i = h; j = k+1\n",
        "    while h < j-1:\n",
        "        quick_comparision_count += 1\n",
        "        if b[h+1] >= b[h]:\n",
        "            # Move to end of block.\n",
        "            swap(b,h+1,j-1)\n",
        "            j = j - 1\n",
        "        else:\n",
        "            swap(b,h,h+1)\n",
        "            h = h + 1\n",
        "    return h\n",
        "\n",
        "def quick_sort(b, h, k):\n",
        "    if (k-h) < 2 :\n",
        "        j = partition(b, h, k)\n",
        "    else:\n",
        "        j = partition(b, h, k)\n",
        "        quick_sort(b, h, j-1)\n",
        "        quick_sort(b, j+1, k)\n",
        "\n",
        "quick_sort(b, 0, len(b)-1)"
      ]
    },
    {
      "cell_type": "code",
      "execution_count": 64,
      "metadata": {
        "colab": {
          "base_uri": "https://localhost:8080/"
        },
        "id": "FwBLleOdR6J0",
        "outputId": "0a81d7d7-c593-44ba-f070-78803a8761c3"
      },
      "outputs": [
        {
          "name": "stdout",
          "output_type": "stream",
          "text": [
            "Number of swaps in insertion : 700\n",
            "Number of comparision in insertion: 1378\n",
            "Number of swaps in selection : 52\n",
            "Number of comparision in selection: 1430\n",
            "Number of swaps in quick : 439\n",
            "Number of comparision in quick: 439\n"
          ]
        }
      ],
      "source": [
        "print(\"Number of swaps in insertion :\" ,insertion_swap_count)\n",
        "print(\"Number of comparision in insertion:\" ,insertion_comparision_count)\n",
        "\n",
        "print(\"Number of swaps in selection :\" ,selection_swap_count)\n",
        "print(\"Number of comparision in selection:\" ,selection_comparision_count)\n",
        "\n",
        "print(\"Number of swaps in quick :\" ,quick_swap_count)\n",
        "print(\"Number of comparision in quick:\" ,quick_comparision_count)"
      ]
    }
  ],
  "metadata": {
    "colab": {
      "provenance": []
    },
    "kernelspec": {
      "display_name": "Python 3",
      "name": "python3"
    },
    "language_info": {
      "name": "python"
    }
  },
  "nbformat": 4,
  "nbformat_minor": 0
}
