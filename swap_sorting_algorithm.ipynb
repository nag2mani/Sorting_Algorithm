{
  "nbformat": 4,
  "nbformat_minor": 0,
  "metadata": {
    "colab": {
      "provenance": []
    },
    "kernelspec": {
      "name": "python3",
      "display_name": "Python 3"
    },
    "language_info": {
      "name": "python"
    }
  },
  "cells": [
    {
      "cell_type": "markdown",
      "source": [
        "#Sorting Algorithm"
      ],
      "metadata": {
        "id": "oexJyvKILlNa"
      }
    },
    {
      "cell_type": "markdown",
      "source": [
        "**Types of Sorting Algorithm**\n",
        "1. Insertion sort\n",
        "2. Selection sort\n",
        "3. Quick sort"
      ],
      "metadata": {
        "id": "osKmdbM7Lzfb"
      }
    },
    {
      "cell_type": "markdown",
      "source": [
        "##We will plot a graph of average number of swaps by each algorithm to the length of the List."
      ],
      "metadata": {
        "id": "U8YfjKLptCTy"
      }
    },
    {
      "cell_type": "markdown",
      "source": [
        "# 1. Insertion sort"
      ],
      "metadata": {
        "id": "1vyDwn5bLmrn"
      }
    },
    {
      "cell_type": "code",
      "source": [
        "import matplotlib.pyplot as plt\n",
        "import random"
      ],
      "metadata": {
        "id": "dKIWyLhb3OXR"
      },
      "execution_count": 73,
      "outputs": []
    },
    {
      "cell_type": "code",
      "source": [
        "x_insrt = [i for i in range(10, 101, 10)]\n",
        "y_insrt = []\n",
        "\n",
        "def swap(b,x,y):\n",
        "  \"\"\"It replace y from x and vice versa in b\"\"\"\n",
        "  global insertion_swap_count\n",
        "  insertion_swap_count +=1\n",
        "  b[x], b[y] = b[y], b[x]\n",
        "\n",
        "def push_down(b, i):\n",
        "    '''Push value at position i into sorted position in b[0..i-1]'''\n",
        "    j = i\n",
        "    while j > 0:\n",
        "        if b[j-1] > b[j]:\n",
        "            swap(b, j-1, j)\n",
        "        j = j-1\n",
        "\n",
        "def insertion_sort(b):\n",
        "  i = 0\n",
        "  while i < len(b):\n",
        "    push_down(b,i)\n",
        "    i = i+1\n",
        "\n",
        "for i in x_insrt:\n",
        "  count_of_swap = 0\n",
        "  for j in range(3):\n",
        "    b1= [i for i in range(1, i+1)]\n",
        "    random.shuffle(b1)\n",
        "    insertion_swap_count = 0\n",
        "    insertion_sort(b1)\n",
        "    count_of_swap += insertion_swap_count\n",
        "  y_insrt.append(count_of_swap/3)\n",
        "\n",
        "print(x_insrt)\n",
        "print(y_insrt)"
      ],
      "metadata": {
        "id": "jE0wdU1CM1m3",
        "colab": {
          "base_uri": "https://localhost:8080/"
        },
        "outputId": "770583d8-da06-40e6-a5b9-e6db6dd33de2"
      },
      "execution_count": 74,
      "outputs": [
        {
          "output_type": "stream",
          "name": "stdout",
          "text": [
            "[10, 20, 30, 40, 50, 60, 70, 80, 90, 100]\n",
            "[18.333333333333332, 94.0, 203.66666666666666, 407.3333333333333, 596.3333333333334, 827.0, 1133.0, 1479.6666666666667, 2024.6666666666667, 2563.3333333333335]\n"
          ]
        }
      ]
    },
    {
      "cell_type": "markdown",
      "source": [
        "#2. Selection sort"
      ],
      "metadata": {
        "id": "PEXW3ygDO3VO"
      }
    },
    {
      "cell_type": "code",
      "source": [
        "x_select = [i for i in range(10, 101, 10)]\n",
        "y_select = []\n",
        "\n",
        "def swap(b,x,y):\n",
        "    \"\"\"It replace y from x and vice versa in b\"\"\"\n",
        "    global selection_swap_count\n",
        "    selection_swap_count +=1\n",
        "    b[x], b[y] = b[y], b[x]\n",
        "\n",
        "def find_minimum(lst,i):\n",
        "\t\"\"\"Returns the index of the minimum of the list\"\"\"\n",
        "\tj = i\n",
        "\tmini = i\n",
        "\twhile j<len(lst):\n",
        "\t\tif lst[mini]>lst[j]:\n",
        "\t\t\tmini = j\n",
        "\t\tj += 1\n",
        "\treturn mini\n",
        "\n",
        "def selection_sort(lst):\n",
        "\ti = 0\n",
        "\twhile i<len(lst)-1:\n",
        "\t\tmini = find_minimum(lst, i)\n",
        "\t\tswap(lst,i,mini)\n",
        "\t\ti += 1\n",
        "\n",
        "for i in x_select:\n",
        "  count_of_swap = 0\n",
        "  for j in range(3):\n",
        "    b1= [i for i in range(1, i+1)]\n",
        "    random.shuffle(b1)\n",
        "    selection_swap_count = 1\n",
        "    selection_sort(b1)\n",
        "    count_of_swap += selection_swap_count\n",
        "  y_select.append(count_of_swap/3)\n",
        "\n",
        "print(x_select)\n",
        "print(y_select)"
      ],
      "metadata": {
        "id": "PPqpA1CRO-jW",
        "colab": {
          "base_uri": "https://localhost:8080/"
        },
        "outputId": "7d195c8f-1f6d-4c04-f978-d605beaa89e6"
      },
      "execution_count": 79,
      "outputs": [
        {
          "output_type": "stream",
          "name": "stdout",
          "text": [
            "[10, 20, 30, 40, 50, 60, 70, 80, 90, 100]\n",
            "[10.0, 20.0, 30.0, 40.0, 50.0, 60.0, 70.0, 80.0, 90.0, 100.0]\n"
          ]
        }
      ]
    },
    {
      "cell_type": "markdown",
      "source": [
        "#3. Quick sort"
      ],
      "metadata": {
        "id": "paE4-7DmPKt0"
      }
    },
    {
      "cell_type": "code",
      "source": [
        "x_quick = [i for i in range(10, 101, 10)]\n",
        "y_quick = []\n",
        "\n",
        "def swap(b,x,y):\n",
        "    \"\"\"It replace y from x and vice versa in b\"\"\"\n",
        "    global quick_swap_count\n",
        "    quick_swap_count += 1\n",
        "    b[x], b[y] = b[y], b[x]\n",
        "\n",
        "def partition(b, h, k):\n",
        "    \"\"\"Partition list b[h..k] around a pivot x = b[h]\"\"\"\n",
        "    i = h; j = k+1\n",
        "    while h < j-1:\n",
        "        if b[h+1] >= b[h]:\n",
        "            # Move to end of block.\n",
        "            swap(b,h+1,j-1)\n",
        "            j = j - 1\n",
        "        else:\n",
        "            swap(b,h,h+1)\n",
        "            h = h + 1\n",
        "    return h\n",
        "\n",
        "def quick_sort(b, h, k):\n",
        "    if (k-h) < 2 :\n",
        "        j = partition(b, h, k)\n",
        "    else:\n",
        "        j = partition(b, h, k)\n",
        "        quick_sort(b, h, j-1)\n",
        "        quick_sort(b, j+1, k)\n",
        "\n",
        "for i in x_quick:\n",
        "  count_of_swap = 0\n",
        "  for j in range(3):\n",
        "    b1= [i for i in range(1, i+1)]\n",
        "    random.shuffle(b1)\n",
        "    quick_swap_count = 0\n",
        "    quick_sort(b1, 0, len(b1)-1)\n",
        "    count_of_swap += quick_swap_count\n",
        "  y_quick.append(count_of_swap/3)\n",
        "\n",
        "print(x_quick)\n",
        "print(y_quick)"
      ],
      "metadata": {
        "id": "-s_5zFCtPPJr",
        "colab": {
          "base_uri": "https://localhost:8080/"
        },
        "outputId": "bc23dc34-40e7-483c-a851-f8a7984ffa3d"
      },
      "execution_count": 90,
      "outputs": [
        {
          "output_type": "stream",
          "name": "stdout",
          "text": [
            "[10, 20, 30, 40, 50, 60, 70, 80, 90, 100]\n",
            "[27.333333333333332, 61.0, 131.33333333333334, 180.33333333333334, 284.0, 340.6666666666667, 405.6666666666667, 480.0, 564.6666666666666, 669.0]\n"
          ]
        }
      ]
    },
    {
      "cell_type": "code",
      "source": [
        "plt.plot(x_insrt, y_insrt, label = \"insertion_sort\")\n",
        "plt.legend()\n",
        "plt.plot(x_select, y_select, label = \"selection_sort\")\n",
        "plt.legend()\n",
        "plt.plot(x_quick, y_quick, label = \"quick_sort\")\n",
        "plt.legend()"
      ],
      "metadata": {
        "colab": {
          "base_uri": "https://localhost:8080/",
          "height": 447
        },
        "id": "LV1ewfra2nCS",
        "outputId": "63bbf4fc-e575-4b99-9db2-1cb9deabedbb"
      },
      "execution_count": 91,
      "outputs": [
        {
          "output_type": "execute_result",
          "data": {
            "text/plain": [
              "<matplotlib.legend.Legend at 0x7ff819bdc370>"
            ]
          },
          "metadata": {},
          "execution_count": 91
        },
        {
          "output_type": "display_data",
          "data": {
            "text/plain": [
              "<Figure size 640x480 with 1 Axes>"
            ],
            "image/png": "[encoded data removed]"
          },
          "metadata": {}
        }
      ]
    }
  ]
}