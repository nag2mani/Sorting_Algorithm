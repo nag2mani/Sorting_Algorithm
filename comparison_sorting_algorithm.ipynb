{
  "cells": [
    {
      "cell_type": "markdown",
      "metadata": {
        "id": "oexJyvKILlNa"
      },
      "source": [
        "#Sorting Algorithm"
      ]
    },
    {
      "cell_type": "markdown",
      "metadata": {
        "id": "osKmdbM7Lzfb"
      },
      "source": [
        "**Types of Sorting Algorithm**\n",
        "1. Insertion sort\n",
        "2. Selection sort\n",
        "3. Quick sort"
      ]
    },
    {
      "cell_type": "markdown",
      "metadata": {
        "id": "YHlfNf7ec7c3"
      },
      "source": [
        "##We will plot a graph of average number of Comparision by each algorithm to the length of the List."
      ]
    },
    {
      "cell_type": "markdown",
      "metadata": {
        "id": "1vyDwn5bLmrn"
      },
      "source": [
        "# 1. Insertion sort"
      ]
    },
    {
      "cell_type": "code",
      "execution_count": 12,
      "metadata": {
        "id": "jE0wdU1CM1m3"
      },
      "outputs": [],
      "source": [
        "import matplotlib.pyplot as plt\n",
        "import random"
      ]
    },
    {
      "cell_type": "code",
      "execution_count": 13,
      "metadata": {
        "colab": {
          "base_uri": "https://localhost:8080/"
        },
        "id": "uRoUQSu-M9HF",
        "outputId": "4cdbc9bc-9f55-431f-da50-87bd5c95adaa"
      },
      "outputs": [
        {
          "output_type": "stream",
          "name": "stdout",
          "text": [
            "[10, 20, 30, 40, 50, 60, 70, 80, 90, 100]\n",
            "[45.0, 190.0, 435.0, 780.0, 1225.0, 1770.0, 2415.0, 3160.0, 4005.0, 4950.0]\n"
          ]
        }
      ],
      "source": [
        "x_insrt = [i for i in range(10, 101, 10)]\n",
        "y_insrt = []\n",
        "\n",
        "def swap(b,x,y):\n",
        "  \"\"\"It replace y from x and vice versa in b\"\"\"\n",
        "  b[x], b[y] = b[y], b[x]\n",
        "\n",
        "def push_down(b, i):\n",
        "    '''Push value at position i into sorted position in b[0..i-1]'''\n",
        "    global insertion_comparision_count\n",
        "    j = i\n",
        "    while j > 0:\n",
        "        insertion_comparision_count +=1\n",
        "        if b[j-1] > b[j]:\n",
        "            swap(b, j-1, j)\n",
        "        j = j-1\n",
        "\n",
        "def insertion_sort(b):\n",
        "    i = 0\n",
        "    while i < len(b):\n",
        "        push_down(b,i)\n",
        "        i = i+1\n",
        "\n",
        "for i in x_insrt:\n",
        "  count_of_comparision = 0\n",
        "  for j in range(3):\n",
        "    b1= [i for i in range(1, i+1)]\n",
        "    random.shuffle(b1)\n",
        "    insertion_comparision_count = 0\n",
        "    insertion_sort(b1)\n",
        "    count_of_comparision += insertion_comparision_count\n",
        "  y_insrt.append(count_of_comparision/3)\n",
        "\n",
        "print(x_insrt)\n",
        "print(y_insrt)"
      ]
    },
    {
      "cell_type": "markdown",
      "metadata": {
        "id": "PEXW3ygDO3VO"
      },
      "source": [
        "#2. Selection sort"
      ]
    },
    {
      "cell_type": "code",
      "execution_count": 14,
      "metadata": {
        "colab": {
          "base_uri": "https://localhost:8080/"
        },
        "id": "PPqpA1CRO-jW",
        "outputId": "aeccbe7d-eeb8-425f-c1de-4ccd8088fe6d"
      },
      "outputs": [
        {
          "output_type": "stream",
          "name": "stdout",
          "text": [
            "[10, 20, 30, 40, 50, 60, 70, 80, 90, 100]\n",
            "[54.0, 209.0, 464.0, 819.0, 1274.0, 1829.0, 2484.0, 3239.0, 4094.0, 5049.0]\n"
          ]
        }
      ],
      "source": [
        "x_select = [i for i in range(10, 101, 10)]\n",
        "y_select = []\n",
        "\n",
        "def swap(b,x,y):\n",
        "    \"\"\"It replace y from x and vice versa in b\"\"\"\n",
        "    b[x], b[y] = b[y], b[x]\n",
        "\n",
        "def find_minimum(lst,i):\n",
        "\t\"\"\"Returns the index of the minimum of the list\"\"\"\n",
        "\tglobal selection_comparision_count\n",
        "\tj = i\n",
        "\tmini = i\n",
        "\twhile j<len(lst):\n",
        "\t\tselection_comparision_count += 1\n",
        "\t\tif lst[mini]>lst[j]:\n",
        "\t\t\tmini = j\n",
        "\t\tj += 1\n",
        "\treturn mini\n",
        "\n",
        "def selection_sort(lst):\n",
        "\ti = 0\n",
        "\twhile i<len(lst)-1:\n",
        "\t\tmini = find_minimum(lst, i)\n",
        "\t\tswap(lst,i,mini)\n",
        "\t\ti += 1\n",
        "\n",
        "for i in x_select:\n",
        "  count_of_comparision = 0\n",
        "  for j in range(3):\n",
        "    b1= [i for i in range(1, i+1)]\n",
        "    random.shuffle(b1)\n",
        "    selection_comparision_count = 0\n",
        "    selection_sort(b1)\n",
        "    count_of_comparision += selection_comparision_count\n",
        "  y_select.append(count_of_comparision/3)\n",
        "\n",
        "print(x_select)\n",
        "print(y_select)"
      ]
    },
    {
      "cell_type": "markdown",
      "metadata": {
        "id": "paE4-7DmPKt0"
      },
      "source": [
        "#3. Quick sort"
      ]
    },
    {
      "cell_type": "code",
      "execution_count": 15,
      "metadata": {
        "id": "-s_5zFCtPPJr",
        "colab": {
          "base_uri": "https://localhost:8080/"
        },
        "outputId": "77c7bd83-4c85-44ae-b5fd-2cfd9e72ad77"
      },
      "outputs": [
        {
          "output_type": "stream",
          "name": "stdout",
          "text": [
            "[10, 20, 30, 40, 50, 60, 70, 80, 90, 100]\n",
            "[25.0, 66.0, 135.66666666666666, 200.66666666666666, 337.0, 332.3333333333333, 426.6666666666667, 509.0, 519.6666666666666, 656.3333333333334]\n"
          ]
        }
      ],
      "source": [
        "x_quick = [i for i in range(10, 101, 10)]\n",
        "y_quick = []\n",
        "\n",
        "def swap(b,x,y):\n",
        "    \"\"\"It replace y from x and vice versa in b\"\"\"\n",
        "    b[x], b[y] = b[y], b[x]\n",
        "\n",
        "def partition(b, h, k):\n",
        "    \"\"\"Partition list b[h..k] around a pivot x = b[h]\"\"\"\n",
        "    global quick_comparision_count\n",
        "    i = h; j = k+1\n",
        "    while h < j-1:\n",
        "        quick_comparision_count += 1\n",
        "        if b[h+1] >= b[h]:\n",
        "            # Move to end of block.\n",
        "            swap(b,h+1,j-1)\n",
        "            j = j - 1\n",
        "        else:\n",
        "            swap(b,h,h+1)\n",
        "            h = h + 1\n",
        "    return h\n",
        "\n",
        "def quick_sort(b, h, k):\n",
        "    if (k-h) < 2 :\n",
        "        j = partition(b, h, k)\n",
        "    else:\n",
        "        j = partition(b, h, k)\n",
        "        quick_sort(b, h, j-1)\n",
        "        quick_sort(b, j+1, k)\n",
        "\n",
        "\n",
        "for i in x_quick:\n",
        "  count_of_swap = 0\n",
        "  for j in range(3):\n",
        "    b1= [i for i in range(1, i+1)]\n",
        "    random.shuffle(b1)\n",
        "    quick_comparision_count = 0\n",
        "    quick_sort(b1, 0, len(b1)-1)\n",
        "    count_of_swap += quick_comparision_count\n",
        "  y_quick.append(count_of_swap/3)\n",
        "\n",
        "print(x_quick)\n",
        "print(y_quick)"
      ]
    },
    {
      "cell_type": "code",
      "execution_count": 16,
      "metadata": {
        "colab": {
          "base_uri": "https://localhost:8080/",
          "height": 447
        },
        "id": "FwBLleOdR6J0",
        "outputId": "96c0a72f-bd68-4df0-81af-e626db107e68"
      },
      "outputs": [
        {
          "output_type": "execute_result",
          "data": {
            "text/plain": [
              "<matplotlib.legend.Legend at 0x7f17c89f0160>"
            ]
          },
          "metadata": {},
          "execution_count": 16
        },
        {
          "output_type": "display_data",
          "data": {
            "text/plain": [
              "<Figure size 640x480 with 1 Axes>"
            ],
            "image/png": "[encoded data removed]"
          },
          "metadata": {}
        }
      ],
      "source": [
        "plt.plot(x_insrt, y_insrt, label = \"insertion_sort\")\n",
        "plt.legend()\n",
        "plt.plot(x_select, y_select, label = \"selection_sort\")\n",
        "plt.legend()\n",
        "plt.plot(x_quick, y_quick, label = \"quick_sort\")\n",
        "plt.legend()"
      ]
    }
  ],
  "metadata": {
    "colab": {
      "provenance": []
    },
    "kernelspec": {
      "display_name": "Python 3",
      "name": "python3"
    },
    "language_info": {
      "name": "python"
    }
  },
  "nbformat": 4,
  "nbformat_minor": 0
}